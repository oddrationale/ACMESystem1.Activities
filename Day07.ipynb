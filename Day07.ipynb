{
  "cells": [
    {
      "cell_type": "markdown",
      "metadata": {
        "id": "view-in-github",
        "colab_type": "text"
      },
      "source": [
        "<a href=\"https://colab.research.google.com/github/oddrationale/ACMESystem1.Activities/blob/master/Day07.ipynb\" target=\"_parent\"><img src=\"https://colab.research.google.com/assets/colab-badge.svg\" alt=\"Open In Colab\"/></a>"
      ]
    },
    {
      "cell_type": "markdown",
      "metadata": {
        "id": "oFAzFV8k0MTr"
      },
      "source": [
        "<article class=\"day-desc\"><h2>--- Day 7: Camel Cards ---</h2><p>Your all-expenses-paid trip turns out to be a one-way, five-minute ride in an <a href=\"https://en.wikipedia.org/wiki/Airship\" target=\"_blank\">airship</a>. (At least it's a <span title=\"Please only read this sentence while listening to 'The Airship Blackjack' from the Final Fantasy 6 soundtrack.\"><em>cool</em> airship</span>!) It drops you off at the edge of a vast desert and descends back to Island Island.</p>\n",
        "<p>\"Did you bring the parts?\"</p>\n",
        "<p>You turn around to see an Elf completely covered in white clothing, wearing goggles, and riding a large <a href=\"https://en.wikipedia.org/wiki/Dromedary\" target=\"_blank\">camel</a>.</p>\n",
        "<p>\"Did you bring the parts?\" she asks again, louder this time. You aren't sure what parts she's looking for; you're here to figure out why the sand stopped.</p>\n",
        "<p>\"The parts! For the sand, yes! Come with me; I will show you.\" She beckons you onto the camel.</p>\n",
        "<p>After riding a bit across the sands of Desert Island, you can see what look like very large rocks covering half of the horizon. The Elf explains that the rocks are all along the part of Desert Island that is directly above Island Island, making it hard to even get there. Normally, they use big machines to move the rocks and filter the sand, but the machines have broken down because Desert Island recently stopped receiving the <em>parts</em> they need to fix the machines.</p>\n",
        "<p>You've already assumed it'll be your job to figure out why the parts stopped when she asks if you can help. You agree automatically.</p>\n",
        "<p>Because the journey will take a few days, she offers to teach you the game of <em>Camel Cards</em>. Camel Cards is sort of similar to <a href=\"https://en.wikipedia.org/wiki/List_of_poker_hands\" target=\"_blank\">poker</a> except it's designed to be easier to play while riding a camel.</p>\n",
        "<p>In Camel Cards, you get a list of <em>hands</em>, and your goal is to order them based on the <em>strength</em> of each hand. A hand consists of <em>five cards</em> labeled one of <code>A</code>, <code>K</code>, <code>Q</code>, <code>J</code>, <code>T</code>, <code>9</code>, <code>8</code>, <code>7</code>, <code>6</code>, <code>5</code>, <code>4</code>, <code>3</code>, or <code>2</code>. The relative strength of each card follows this order, where <code>A</code> is the highest and <code>2</code> is the lowest.</p>\n",
        "<p>Every hand is exactly one <em>type</em>. From strongest to weakest, they are:</p>\n",
        "<ul>\n",
        "<li><em>Five of a kind</em>, where all five cards have the same label: <code>AAAAA</code></li>\n",
        "<li><em>Four of a kind</em>, where four cards have the same label and one card has a different label: <code>AA8AA</code></li>\n",
        "<li><em>Full house</em>, where three cards have the same label, and the remaining two cards share a different label: <code>23332</code></li>\n",
        "<li><em>Three of a kind</em>, where three cards have the same label, and the remaining two cards are each different from any other card in the hand: <code>TTT98</code></li>\n",
        "<li><em>Two pair</em>, where two cards share one label, two other cards share a second label, and the remaining card has a third label: <code>23432</code></li>\n",
        "<li><em>One pair</em>, where two cards share one label, and the other three cards have a different label from the pair and each other: <code>A23A4</code></li>\n",
        "<li><em>High card</em>, where all cards' labels are distinct: <code>23456</code></li>\n",
        "</ul>\n",
        "<p>Hands are primarily ordered based on type; for example, every <em>full house</em> is stronger than any <em>three of a kind</em>.</p>\n",
        "<p>If two hands have the same type, a second ordering rule takes effect. Start by comparing the <em>first card in each hand</em>. If these cards are different, the hand with the stronger first card is considered stronger. If the first card in each hand have the <em>same label</em>, however, then move on to considering the <em>second card in each hand</em>. If they differ, the hand with the higher second card wins; otherwise, continue with the third card in each hand, then the fourth, then the fifth.</p>\n",
        "<p>So, <code>33332</code> and <code>2AAAA</code> are both <em>four of a kind</em> hands, but <code>33332</code> is stronger because its first card is stronger. Similarly, <code>77888</code> and <code>77788</code> are both a <em>full house</em>, but <code>77888</code> is stronger because its third card is stronger (and both hands have the same first and second card).</p>\n",
        "<p>To play Camel Cards, you are given a list of hands and their corresponding <em>bid</em> (your puzzle input). For example:</p>\n",
        "<pre><code>32T3K 765\n",
        "T55J5 684\n",
        "KK677 28\n",
        "KTJJT 220\n",
        "QQQJA 483\n",
        "</code></pre>\n",
        "<p>This example shows five hands; each hand is followed by its <em>bid</em> amount. Each hand wins an amount equal to its bid multiplied by its <em>rank</em>, where the weakest hand gets rank 1, the second-weakest hand gets rank 2, and so on up to the strongest hand. Because there are five hands in this example, the strongest hand will have rank 5 and its bid will be multiplied by 5.</p>\n",
        "<p>So, the first step is to put the hands in order of strength:</p>\n",
        "<ul>\n",
        "<li><code>32T3K</code> is the only <em>one pair</em> and the other hands are all a stronger type, so it gets rank <em>1</em>.</li>\n",
        "<li><code>KK677</code> and <code>KTJJT</code> are both <em>two pair</em>. Their first cards both have the same label, but the second card of <code>KK677</code> is stronger (<code>K</code> vs <code>T</code>), so <code>KTJJT</code> gets rank <em>2</em> and <code>KK677</code> gets rank <em>3</em>.</li>\n",
        "<li><code>T55J5</code> and <code>QQQJA</code> are both <em>three of a kind</em>. <code>QQQJA</code> has a stronger first card, so it gets rank <em>5</em> and <code>T55J5</code> gets rank <em>4</em>.</li>\n",
        "</ul>\n",
        "<p>Now, you can determine the total winnings of this set of hands by adding up the result of multiplying each hand's bid with its rank (<code>765</code> * 1 + <code>220</code> * 2 + <code>28</code> * 3 + <code>684</code> * 4 + <code>483</code> * 5). So the <em>total winnings</em> in this example are <code><em>6440</em></code>.</p>\n",
        "<p>Find the rank of every hand in your set. <em>What are the total winnings?</em></p>\n",
        "</article>"
      ]
    },
    {
      "cell_type": "code",
      "execution_count": 1,
      "metadata": {
        "colab": {
          "base_uri": "https://localhost:8080/"
        },
        "id": "8bnd-ZZk0PAL",
        "outputId": "0b11aabe-5068-4a5d-d0f1-990b72621a80"
      },
      "outputs": [
        {
          "output_type": "stream",
          "name": "stdout",
          "text": [
            "Drive already mounted at /content/drive; to attempt to forcibly remount, call drive.mount(\"/content/drive\", force_remount=True).\n"
          ]
        }
      ],
      "source": [
        "from google.colab import drive\n",
        "drive.mount(r\"/content/drive\")\n",
        "\n",
        "input_file = r\"/content/drive/MyDrive/Colab Notebooks/AoC2023/input/07.txt\"\n",
        "with open(input_file, \"r\") as file:\n",
        "    input = file.read()"
      ]
    },
    {
      "cell_type": "code",
      "source": [
        "from dataclasses import dataclass, field\n",
        "from itertools import groupby"
      ],
      "metadata": {
        "id": "HNojCpoamNYx"
      },
      "execution_count": 2,
      "outputs": []
    },
    {
      "cell_type": "code",
      "source": [
        "@dataclass\n",
        "class Card:\n",
        "    \"\"\" Represents a single playing card in Camel Cards game, using dataclasses for automatic method generation.\n",
        "\n",
        "    Attributes:\n",
        "        value (str): The label of the card (e.g., 'A', 'K', 'Q', 'J', 'T', '9', ... '2').\n",
        "    \"\"\"\n",
        "\n",
        "    # Class variable that defines the order of the card values\n",
        "    value_order = 'AKQJT98765432'\n",
        "\n",
        "    value: str\n",
        "\n",
        "    def __post_init__(self):\n",
        "        \"\"\" Validates the card value after initialization. \"\"\"\n",
        "        if self.value not in Card.value_order:\n",
        "            raise ValueError(\"Invalid card value\")\n",
        "\n",
        "    def __lt__(self, other: 'Card') -> bool:\n",
        "        \"\"\" Less than comparison based on the card's value. \"\"\"\n",
        "        return Card.value_order.index(self.value) > Card.value_order.index(other.value)"
      ],
      "metadata": {
        "id": "wy7S5sCLmN_E"
      },
      "execution_count": 3,
      "outputs": []
    },
    {
      "cell_type": "code",
      "source": [
        "@dataclass\n",
        "class Hand:\n",
        "    \"\"\" Represents a hand of cards in Camel Cards game.\n",
        "\n",
        "    Attributes:\n",
        "        cards (list[Card]): A list of Card objects representing the hand.\n",
        "        bid (int): The bid amount associated with this hand.\n",
        "    \"\"\"\n",
        "    cards: list[Card]\n",
        "    bid: int\n",
        "    hand_type: str = field(init=False, default=\"\")\n",
        "    hand_rank: int = field(init=False, default=0)\n",
        "\n",
        "    def __post_init__(self):\n",
        "        \"\"\" Processes the hand after initialization. \"\"\"\n",
        "        self.determine_hand_type_and_rank()\n",
        "\n",
        "    def determine_hand_type_and_rank(self) -> None:\n",
        "        \"\"\" Determines the type and rank of the hand. \"\"\"\n",
        "        values = [card.value for card in self.cards]\n",
        "        unique_values = set(values)\n",
        "\n",
        "        if len(unique_values) == 1:\n",
        "            self.hand_type = \"Five of a kind\"\n",
        "            self.hand_rank = 1\n",
        "        elif len(unique_values) == 2:\n",
        "            if values.count(values[0]) == 4 or values.count(values[1]) == 4:\n",
        "                self.hand_type = \"Four of a kind\"\n",
        "                self.hand_rank = 2\n",
        "            else:\n",
        "                self.hand_type = \"Full house\"\n",
        "                self.hand_rank = 3\n",
        "        elif len(unique_values) == 3:\n",
        "            for value in unique_values:\n",
        "                if values.count(value) == 3:\n",
        "                    self.hand_type = \"Three of a kind\"\n",
        "                    self.hand_rank = 4\n",
        "                    break\n",
        "            else:\n",
        "                self.hand_type = \"Two pair\"\n",
        "                self.hand_rank = 5\n",
        "        elif len(unique_values) == 4:\n",
        "            self.hand_type = \"One pair\"\n",
        "            self.hand_rank = 6\n",
        "        else:\n",
        "            self.hand_type = \"High card\"\n",
        "            self.hand_rank = 7\n",
        "\n",
        "    def __lt__(self, other: \"Hand\") -> bool:\n",
        "        \"\"\" Compares hands based on type and card strength. \"\"\"\n",
        "        if self.hand_rank != other.hand_rank:\n",
        "            return self.hand_rank > other.hand_rank\n",
        "        else:\n",
        "            # Compare card by card if hand ranks are equal\n",
        "            for card_self, card_other in zip(self.cards, other.cards):\n",
        "                if card_self != card_other:\n",
        "                    return card_self < card_other\n",
        "            return False  # If all cards are equal\n",
        "\n",
        "    @classmethod\n",
        "    def from_string(cls, hand_string: str) -> 'Hand':\n",
        "        \"\"\" Parses a string into a Hand object.\n",
        "\n",
        "        Args:\n",
        "            hand_string (str): The string representation of the hand, e.g., '32T3K 765'.\n",
        "\n",
        "        Returns:\n",
        "            Hand: The parsed Hand object.\n",
        "        \"\"\"\n",
        "        parts = hand_string.split()\n",
        "        card_values, bid_str = parts[0], parts[1]\n",
        "        cards = [Card(value) for value in card_values]\n",
        "        bid = int(bid_str)\n",
        "        return cls(cards, bid)"
      ],
      "metadata": {
        "id": "Ao7REUmjmRH-"
      },
      "execution_count": 4,
      "outputs": []
    },
    {
      "cell_type": "code",
      "source": [
        "@dataclass\n",
        "class CamelCardsGame:\n",
        "    \"\"\" Represents a game of Camel Cards.\n",
        "\n",
        "    This class manages the game by holding a list of hands, ordering them based on strength,\n",
        "    and calculating total winnings.\n",
        "\n",
        "    Attributes:\n",
        "        hands (list[Hand]): A list of Hand objects in the game.\n",
        "    \"\"\"\n",
        "    hands: list[Hand] = field(default_factory=list)\n",
        "\n",
        "    def calculate_winnings(self) -> int:\n",
        "        \"\"\" Calculates and returns the total winnings of the game.\n",
        "\n",
        "        The hands are first sorted by their strength, and then the winnings are calculated\n",
        "        based on the bid and the rank of each hand.\n",
        "\n",
        "        Returns:\n",
        "            int: The total winnings of the game.\n",
        "        \"\"\"\n",
        "        # Sort the hands based on their strength (weakest first)\n",
        "        self.hands.sort()\n",
        "\n",
        "        # Calculate winnings: Multiply each hand's bid by its rank\n",
        "        total_winnings = sum(hand.bid * (rank + 1) for rank, hand in enumerate(self.hands))\n",
        "        return total_winnings\n",
        "\n",
        "    def play_game(self, use_joker_rule: bool = False) -> int:\n",
        "        \"\"\" Processes and plays the game, calculating the total winnings, with an option to apply the joker rule.\n",
        "\n",
        "        Args:\n",
        "            use_joker_rule (bool): Flag to determine if the joker rule should be applied. Default is False.\n",
        "\n",
        "        Returns:\n",
        "            int: The total winnings of the game.\n",
        "        \"\"\"\n",
        "        return self.calculate_winnings()\n",
        "\n",
        "    @classmethod\n",
        "    def from_string(cls, game_string: str) -> \"CamelCardsGame\":\n",
        "        \"\"\" Parses a multi-line string into a CamelCardsGame object.\n",
        "\n",
        "        Each line of the string should represent a hand and its bid, formatted like \"32T3K 765\".\n",
        "\n",
        "        Args:\n",
        "            game_string (str): The string representation of the game.\n",
        "\n",
        "        Returns:\n",
        "            CamelCardsGame: The parsed CamelCardsGame object.\n",
        "        \"\"\"\n",
        "        hands = [Hand.from_string(line) for line in game_string.splitlines() if line]\n",
        "        return cls(hands)"
      ],
      "metadata": {
        "id": "mcG6clytm7qd"
      },
      "execution_count": 5,
      "outputs": []
    },
    {
      "cell_type": "code",
      "source": [
        "game = CamelCardsGame.from_string(input)\n",
        "game.play_game()"
      ],
      "metadata": {
        "id": "qx4YywOszgkN",
        "colab": {
          "base_uri": "https://localhost:8080/"
        },
        "outputId": "f8507a0a-4bfb-4495-cdb0-be78dbbab2c4"
      },
      "execution_count": 6,
      "outputs": [
        {
          "output_type": "execute_result",
          "data": {
            "text/plain": [
              "250951660"
            ]
          },
          "metadata": {},
          "execution_count": 6
        }
      ]
    },
    {
      "cell_type": "markdown",
      "source": [
        "<article class=\"day-desc\"><h2 id=\"part2\">--- Part Two ---</h2><p>To make things a little more interesting, the Elf introduces one additional rule. Now, <code>J</code> cards are <a href=\"https://en.wikipedia.org/wiki/Joker_(playing_card)\" target=\"_blank\">jokers</a> - wildcards that can act like whatever card would make the hand the strongest type possible.</p>\n",
        "<p>To balance this, <em><code>J</code> cards are now the weakest</em> individual cards, weaker even than <code>2</code>. The other cards stay in the same order: <code>A</code>, <code>K</code>, <code>Q</code>, <code>T</code>, <code>9</code>, <code>8</code>, <code>7</code>, <code>6</code>, <code>5</code>, <code>4</code>, <code>3</code>, <code>2</code>, <code>J</code>.</p>\n",
        "<p><code>J</code> cards can pretend to be whatever card is best for the purpose of determining hand type; for example, <code>QJJQ2</code> is now considered <em>four of a kind</em>. However, for the purpose of breaking ties between two hands of the same type, <code>J</code> is always treated as <code>J</code>, not the card it's pretending to be: <code>JKKK2</code> is weaker than <code>QQQQ2</code> because <code>J</code> is weaker than <code>Q</code>.</p>\n",
        "<p>Now, the above example goes very differently:</p>\n",
        "<pre><code>32T3K 765\n",
        "T55J5 684\n",
        "KK677 28\n",
        "KTJJT 220\n",
        "QQQJA 483\n",
        "</code></pre>\n",
        "<ul>\n",
        "<li><code>32T3K</code> is still the only <em>one pair</em>; it doesn't contain any jokers, so its strength doesn't increase.</li>\n",
        "<li><code>KK677</code> is now the only <em>two pair</em>, making it the second-weakest hand.</li>\n",
        "<li><code>T55J5</code>, <code>KTJJT</code>, and <code>QQQJA</code> are now all <em>four of a kind</em>! <code>T55J5</code> gets rank 3, <code>QQQJA</code> gets rank 4, and <code>KTJJT</code> gets rank 5.</li>\n",
        "</ul>\n",
        "<p>With the new joker rule, the total winnings in this example are <code><em>5905</em></code>.</p>\n",
        "<p>Using the new joker rule, find the rank of every hand in your set. <em>What are the new total winnings?</em></p>\n",
        "</article>"
      ],
      "metadata": {
        "id": "vkETs2pR2yhX"
      }
    },
    {
      "cell_type": "code",
      "source": [
        "@dataclass\n",
        "class Card2:\n",
        "    \"\"\" Represents a single playing card in Camel Cards game, using dataclasses for automatic method generation.\n",
        "\n",
        "    Attributes:\n",
        "        value (str): The label of the card (e.g., 'A', 'K', 'Q', 'J', 'T', '9', ... '2').\n",
        "    \"\"\"\n",
        "\n",
        "    # Class variable that defines the order of the card values\n",
        "    value_order = 'AKQT98765432J'\n",
        "\n",
        "    value: str\n",
        "\n",
        "    def __post_init__(self):\n",
        "        \"\"\" Validates the card value after initialization. \"\"\"\n",
        "        if self.value not in Card2.value_order:\n",
        "            raise ValueError(\"Invalid card value\")\n",
        "\n",
        "    def __lt__(self, other: 'Card2') -> bool:\n",
        "        \"\"\" Less than comparison based on the card's value. \"\"\"\n",
        "        return Card2.value_order.index(self.value) > Card2.value_order.index(other.value)"
      ],
      "metadata": {
        "id": "fGaisakw14wf"
      },
      "execution_count": 7,
      "outputs": []
    },
    {
      "cell_type": "code",
      "source": [
        "@dataclass\n",
        "class Hand2:\n",
        "    \"\"\" Represents a hand of cards in Camel Cards game.\n",
        "\n",
        "    Attributes:\n",
        "        cards (list[Card2]): A list of Card2 objects representing the hand.\n",
        "        bid (int): The bid amount associated with this hand.\n",
        "    \"\"\"\n",
        "    cards: list[Card2]\n",
        "    bid: int\n",
        "    hand_type: str = field(init=False, default=\"\")\n",
        "    hand_rank: int = field(init=False, default=0)\n",
        "\n",
        "    def __post_init__(self):\n",
        "        \"\"\" Processes the hand after initialization. \"\"\"\n",
        "        self.determine_hand_type_and_rank()\n",
        "\n",
        "    def determine_hand_type_and_rank(self) -> None:\n",
        "        \"\"\" Determines the type and rank of the hand, considering Jokers as wildcards. \"\"\"\n",
        "        values = [card.value for card in self.cards]\n",
        "        values.sort()\n",
        "        card_counts = {key: len(list(group)) for key, group in groupby(values)}\n",
        "\n",
        "        # Count the number of Jokers\n",
        "        jokers = card_counts.get('J', 0)\n",
        "\n",
        "        # Function to find the highest count of any card (including jokers)\n",
        "        def max_count_with_jokers():\n",
        "            return max((count + jokers if card != 'J' else count) for card, count in card_counts.items())\n",
        "\n",
        "        # Determine hand type\n",
        "        if max_count_with_jokers() == 5:\n",
        "            self.hand_type = \"Five of a kind\"\n",
        "            self.hand_rank = 1\n",
        "        elif max_count_with_jokers() == 4:\n",
        "            self.hand_type = \"Four of a kind\"\n",
        "            self.hand_rank = 2\n",
        "        elif max_count_with_jokers() == 3:\n",
        "            if len(card_counts) - (1 if jokers > 0 else 0) == 2:\n",
        "                self.hand_type = \"Full house\"\n",
        "                self.hand_rank = 3\n",
        "            else:\n",
        "                self.hand_type = \"Three of a kind\"\n",
        "                self.hand_rank = 4\n",
        "        elif max_count_with_jokers() == 2:\n",
        "            if len(card_counts) - (1 if jokers > 0 else 0) == 3:\n",
        "                self.hand_type = \"Two pair\"\n",
        "                self.hand_rank = 5\n",
        "            else:\n",
        "                self.hand_type = \"One pair\"\n",
        "                self.hand_rank = 6\n",
        "        else:\n",
        "            self.hand_type = \"High card\"\n",
        "            self.hand_rank = 7\n",
        "\n",
        "    def __lt__(self, other: \"Hand2\") -> bool:\n",
        "        \"\"\" Compares hands based on type and card strength. \"\"\"\n",
        "        if self.hand_rank != other.hand_rank:\n",
        "            return self.hand_rank > other.hand_rank\n",
        "        else:\n",
        "            # Compare card by card if hand ranks are equal\n",
        "            for card_self, card_other in zip(self.cards, other.cards):\n",
        "                if card_self != card_other:\n",
        "                    return card_self < card_other\n",
        "            return False  # If all cards are equal\n",
        "\n",
        "    @classmethod\n",
        "    def from_string(cls, hand_string: str) -> 'Hand2':\n",
        "        \"\"\" Parses a string into a Hand2 object.\n",
        "\n",
        "        Args:\n",
        "            hand_string (str): The string representation of the hand, e.g., '32T3K 765'.\n",
        "\n",
        "        Returns:\n",
        "            Hand2: The parsed Hand2 object.\n",
        "        \"\"\"\n",
        "        parts = hand_string.split()\n",
        "        card_values, bid_str = parts[0], parts[1]\n",
        "        cards = [Card2(value) for value in card_values]\n",
        "        bid = int(bid_str)\n",
        "        return cls(cards, bid)"
      ],
      "metadata": {
        "id": "Bwz8yh7M1RDb"
      },
      "execution_count": 8,
      "outputs": []
    },
    {
      "cell_type": "code",
      "source": [
        "@dataclass\n",
        "class CamelCardsGame2:\n",
        "    \"\"\" Represents a game of Camel Cards.\n",
        "\n",
        "    This class manages the game by holding a list of hands, ordering them based on strength,\n",
        "    and calculating total winnings.\n",
        "\n",
        "    Attributes:\n",
        "        hands (list[Hand2]): A list of Hand2 objects in the game.\n",
        "    \"\"\"\n",
        "    hands: list[Hand2] = field(default_factory=list)\n",
        "\n",
        "    def calculate_winnings(self) -> int:\n",
        "        \"\"\" Calculates and returns the total winnings of the game.\n",
        "\n",
        "        The hands are first sorted by their strength, and then the winnings are calculated\n",
        "        based on the bid and the rank of each hand.\n",
        "\n",
        "        Returns:\n",
        "            int: The total winnings of the game.\n",
        "        \"\"\"\n",
        "        # Sort the hands based on their strength (weakest first)\n",
        "        self.hands.sort()\n",
        "\n",
        "        # Calculate winnings: Multiply each hand's bid by its rank\n",
        "        total_winnings = sum(hand.bid * (rank + 1) for rank, hand in enumerate(self.hands))\n",
        "        return total_winnings\n",
        "\n",
        "    def play_game(self, use_joker_rule: bool = False) -> int:\n",
        "        \"\"\" Processes and plays the game, calculating the total winnings, with an option to apply the joker rule.\n",
        "\n",
        "        Args:\n",
        "            use_joker_rule (bool): Flag to determine if the joker rule should be applied. Default is False.\n",
        "\n",
        "        Returns:\n",
        "            int: The total winnings of the game.\n",
        "        \"\"\"\n",
        "        return self.calculate_winnings()\n",
        "\n",
        "    @classmethod\n",
        "    def from_string(cls, game_string: str) -> \"CamelCardsGame2\":\n",
        "        \"\"\" Parses a multi-line string into a CamelCardsGame2 object.\n",
        "\n",
        "        Each line of the string should represent a hand and its bid, formatted like \"32T3K 765\".\n",
        "\n",
        "        Args:\n",
        "            game_string (str): The string representation of the game.\n",
        "\n",
        "        Returns:\n",
        "            CamelCardsGame2: The parsed CamelCardsGame2 object.\n",
        "        \"\"\"\n",
        "        hands = [Hand2.from_string(line) for line in game_string.splitlines() if line]\n",
        "        return cls(hands)"
      ],
      "metadata": {
        "id": "Z2Ya0bOd3CkF"
      },
      "execution_count": 9,
      "outputs": []
    },
    {
      "cell_type": "code",
      "source": [
        "game2 = CamelCardsGame2.from_string(input)\n",
        "game2.play_game()"
      ],
      "metadata": {
        "colab": {
          "base_uri": "https://localhost:8080/"
        },
        "id": "NuxDvIGp3FvR",
        "outputId": "f9a189b5-76c3-4aba-a76b-ab3d3d951bd7"
      },
      "execution_count": 10,
      "outputs": [
        {
          "output_type": "execute_result",
          "data": {
            "text/plain": [
              "251481660"
            ]
          },
          "metadata": {},
          "execution_count": 10
        }
      ]
    }
  ],
  "metadata": {
    "colab": {
      "provenance": [],
      "authorship_tag": "ABX9TyOKqP1dUJ1SzmsZ580Q7/Xs",
      "include_colab_link": true
    },
    "kernelspec": {
      "display_name": "Python 3",
      "name": "python3"
    },
    "language_info": {
      "name": "python"
    }
  },
  "nbformat": 4,
  "nbformat_minor": 0
}